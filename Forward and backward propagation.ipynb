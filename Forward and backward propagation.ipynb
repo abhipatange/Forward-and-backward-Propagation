{
 "cells": [
  {
   "cell_type": "code",
   "execution_count": null,
   "id": "d202c3f1-7046-4ec0-8eb2-e1964e43a743",
   "metadata": {},
   "outputs": [],
   "source": [
    "Q1. What is the purpose of forward propagation in a neural network?"
   ]
  },
  {
   "cell_type": "code",
   "execution_count": null,
   "id": "f53ef6bb-8be8-4cc4-ba66-641e65c48aae",
   "metadata": {},
   "outputs": [],
   "source": [
    "Ans = What is Forward Propagation in Neural Networks? Forward propagation is \n",
    "where input data is fed through a network, in a forward direction, to generate an output.\n",
    "The data is accepted by hidden layers and processed, \n",
    "as per the activation function, and moves to the successive layer."
   ]
  },
  {
   "cell_type": "code",
   "execution_count": null,
   "id": "115a2d45-ff40-43e3-8bc1-368b1ca4fac3",
   "metadata": {},
   "outputs": [],
   "source": []
  },
  {
   "cell_type": "code",
   "execution_count": null,
   "id": "1f9e926b-d23b-43e3-bb62-9632d943e50f",
   "metadata": {},
   "outputs": [],
   "source": [
    "Q2. How is forward propagation implemented mathematically in a single-layer feedforward neural network?"
   ]
  },
  {
   "cell_type": "code",
   "execution_count": null,
   "id": "d1171d7d-dcdf-4d03-b8dd-5cd48e24af69",
   "metadata": {},
   "outputs": [],
   "source": [
    "Ans = (Y=W1X1+W2X2+b).\n",
    "This summed function is applied over an Activation function. \n",
    "The output from this neuron is multiplied with the weight W3 and supplied as input to the output layer.\n",
    "The same process happens in each neuron, but we vary the activation functions in hidden layer neurons, \n",
    "not in the output layer."
   ]
  },
  {
   "cell_type": "code",
   "execution_count": null,
   "id": "9e1abf9e-6689-465f-adc0-65f0255e7880",
   "metadata": {},
   "outputs": [],
   "source": []
  },
  {
   "cell_type": "code",
   "execution_count": null,
   "id": "19ab0b6c-d6fb-44a7-b8e5-5c5495b91106",
   "metadata": {},
   "outputs": [],
   "source": [
    "Q3. How are activation functions used during forward propagation?"
   ]
  },
  {
   "cell_type": "code",
   "execution_count": null,
   "id": "ac9eacfb-0075-4aae-be23-fdc1440a6c49",
   "metadata": {},
   "outputs": [],
   "source": [
    "Ans = During forward propagation, pre-activation and activation take place at each hidden \n",
    "and output layer node of a neural network.\n",
    "The pre-activation function is the calculation of the weighted sum.\n",
    "The activation function is applied, based on the weighted sum, \n",
    "to make the neural network flow non-linearly using bias."
   ]
  },
  {
   "cell_type": "code",
   "execution_count": null,
   "id": "b2548e77-637e-4262-95de-267be9ad25dd",
   "metadata": {},
   "outputs": [],
   "source": []
  },
  {
   "cell_type": "code",
   "execution_count": null,
   "id": "36e3cd93-290a-4707-9086-c8f1985fd503",
   "metadata": {},
   "outputs": [],
   "source": [
    "Q4. What is the role of weights and biases in forward propagation?"
   ]
  },
  {
   "cell_type": "code",
   "execution_count": null,
   "id": "1d067901-3ffe-45fd-a583-6cb16881c741",
   "metadata": {},
   "outputs": [],
   "source": [
    "Ans = Weights and biases are neural network parameters that simplify machine\n",
    "learning data identification. \n",
    "The weights and biases develop how a neural network propels data flow forward \n",
    "through the network; this is called forward propagation."
   ]
  },
  {
   "cell_type": "code",
   "execution_count": null,
   "id": "21822f95-e24f-4406-9a64-211975d24900",
   "metadata": {},
   "outputs": [],
   "source": []
  },
  {
   "cell_type": "code",
   "execution_count": null,
   "id": "e4c260b1-d3ae-4f50-9365-f5ab50e6388e",
   "metadata": {},
   "outputs": [],
   "source": [
    "Q5. What is the purpose of applying a softmax function in the output layer during forward propagation?"
   ]
  },
  {
   "cell_type": "code",
   "execution_count": null,
   "id": "7d1d36ed-03fd-4dcd-946d-880510607dbb",
   "metadata": {},
   "outputs": [],
   "source": [
    "Ans = The softmax function is used as the activation function in the output layer of neural\n",
    "network models that predict a multinomial probability distribution.\n",
    "That is, softmax is used as the activation function for multi-class \n",
    "classification problems where class membership is required on more than two class labels."
   ]
  },
  {
   "cell_type": "code",
   "execution_count": null,
   "id": "91fa1773-f8d0-4d35-aea6-c0b336b55ca0",
   "metadata": {},
   "outputs": [],
   "source": []
  },
  {
   "cell_type": "code",
   "execution_count": null,
   "id": "f79555f0-6396-48c0-9b3d-d182c9a1e36a",
   "metadata": {},
   "outputs": [],
   "source": [
    "Q6. What is the purpose of backward propagation in a neural network?"
   ]
  },
  {
   "cell_type": "code",
   "execution_count": null,
   "id": "567b40ad-95a6-4841-8fd2-e7c7b201fab3",
   "metadata": {},
   "outputs": [],
   "source": [
    "Ans = What is the objective of a backpropagation algorithm? Backpropagation algorithms\n",
    "are used extensively to train feedforward neural networks in areas such as deep learning.\n",
    "They efficiently compute the gradient of the loss function with respect to the network weights."
   ]
  },
  {
   "cell_type": "code",
   "execution_count": null,
   "id": "99bd7bb7-e42b-457b-8aa7-86e572ddb056",
   "metadata": {},
   "outputs": [],
   "source": []
  },
  {
   "cell_type": "code",
   "execution_count": null,
   "id": "5c0dfda7-5796-42ba-98fd-644781831100",
   "metadata": {},
   "outputs": [],
   "source": [
    "Q7. How is backward propagation mathematically calculated in a single-layer feedforward neural network?"
   ]
  },
  {
   "cell_type": "code",
   "execution_count": null,
   "id": "d547a9e9-777b-454e-aa00-ae47890b6677",
   "metadata": {},
   "outputs": [],
   "source": [
    "Ans = Backpropagation In Sigmoidal Neural Networks.\n",
    "Backpropagation is actually a major motivating factor \n",
    "in the historical use of sigmoid activation functions due to its convenient \n",
    "derivative: g ′ ( x ) = ∂ σ ( x ) ∂ x = σ ( x ) ( 1 − σ ( x ) ) ."
   ]
  },
  {
   "cell_type": "code",
   "execution_count": null,
   "id": "160d90ee-8331-4a20-b4aa-e1c2c1853ef3",
   "metadata": {},
   "outputs": [],
   "source": []
  },
  {
   "cell_type": "code",
   "execution_count": null,
   "id": "6eb2b759-9747-4c33-b85e-49781c236e65",
   "metadata": {},
   "outputs": [],
   "source": [
    "Q8. Can you explain the concept of the chain rule and its application in backward propagation?"
   ]
  },
  {
   "cell_type": "code",
   "execution_count": null,
   "id": "fc2dcf6e-9a56-4603-9605-83c69b69db03",
   "metadata": {},
   "outputs": [],
   "source": [
    "Ans = The algorithm is used to effectively train a neural network through a method called chain rule.\n",
    "In simple terms, after each forward pass through a network, backpropagation performs \n",
    "a backward pass while adjusting the model's parameters (weights and biases)."
   ]
  },
  {
   "cell_type": "code",
   "execution_count": null,
   "id": "cdcfa2cf-ec0b-43a6-8c1b-c48180449255",
   "metadata": {},
   "outputs": [],
   "source": []
  },
  {
   "cell_type": "code",
   "execution_count": null,
   "id": "ea739008-3163-4332-874f-75892a93001d",
   "metadata": {},
   "outputs": [],
   "source": [
    "Q9. What are some common challenges or issues that can occur during backward propagation, and how\n",
    "can they be addressed?"
   ]
  },
  {
   "cell_type": "code",
   "execution_count": null,
   "id": "5e8ce2d6-cde9-4d4e-ad03-6458e1f26141",
   "metadata": {},
   "outputs": [],
   "source": [
    "Ans = 1.The actual performance of backpropagation on a specific problem is dependent on the input data.\n",
    "2.Back propagation algorithm in data mining can be quite sensitive to noisy data.\n",
    "3. need to use the matrix-based approach for backpropagation instead of mini-batch.\n",
    "\n",
    "Backpropagation, or backward propagation of errors, is an algorithm that is designed\n",
    "to test for errors working back from output nodes to input nodes.\n",
    "It is an important mathematical tool for improving the accuracy of predictions in data mining and machine learning."
   ]
  },
  {
   "cell_type": "code",
   "execution_count": null,
   "id": "16fef686-b88f-45bc-a639-1116bfb21be2",
   "metadata": {},
   "outputs": [],
   "source": []
  },
  {
   "cell_type": "code",
   "execution_count": null,
   "id": "a45dae64-2847-43f5-b10f-3a7515990246",
   "metadata": {},
   "outputs": [],
   "source": []
  }
 ],
 "metadata": {
  "kernelspec": {
   "display_name": "Python 3 (ipykernel)",
   "language": "python",
   "name": "python3"
  },
  "language_info": {
   "codemirror_mode": {
    "name": "ipython",
    "version": 3
   },
   "file_extension": ".py",
   "mimetype": "text/x-python",
   "name": "python",
   "nbconvert_exporter": "python",
   "pygments_lexer": "ipython3",
   "version": "3.10.8"
  }
 },
 "nbformat": 4,
 "nbformat_minor": 5
}
